{
 "cells": [
  {
   "attachments": {},
   "cell_type": "markdown",
   "metadata": {},
   "source": [
    "# **Simulating Everyone's Voice: Exploring ChatGPTs Ability to Simulate Human Annotators (ELMosts)**"
   ]
  },
  {
   "attachments": {},
   "cell_type": "markdown",
   "metadata": {},
   "source": [
    "# [gpt-3.5-turbo, is the same model used in the ChatGPT product](https://openai.com/blog/introducing-chatgpt-and-whisper-apis)"
   ]
  },
  {
   "attachments": {},
   "cell_type": "markdown",
   "metadata": {},
   "source": [
    "# **Run chunk below to load presaved data:**\n",
    "\n",
    "`titles`: original 83k titles (as scraped) \\\n",
    "`classified_titles`: titles with zero-shot classification labels (Controversial, Uncontroversial, Other) and probabilities \\\n",
    "`sampled_controversial_titles`: 50 controversial titles sampled from the original titles"
   ]
  },
  {
   "cell_type": "code",
   "execution_count": 1,
   "metadata": {},
   "outputs": [],
   "source": [
    "import pandas as pd\n",
    "# from google.colab import data_table\n",
    "# data_table.enable_dataframe_formatter()\n",
    "\n",
    "titles = pd.read_pickle(\"data/titles.pkl\")\n",
    "classified_titles = pd.read_pickle(\"data/classified_titles.pkl\")\n",
    "df = pd.DataFrame(classified_titles)"
   ]
  },
  {
   "cell_type": "code",
   "execution_count": 2,
   "metadata": {},
   "outputs": [],
   "source": [
    "from unidecode import unidecode\n",
    "\n",
    "# normalized titles\n",
    "titles = [unidecode(title) for title in titles]\n"
   ]
  },
  {
   "attachments": {},
   "cell_type": "markdown",
   "metadata": {},
   "source": [
    "# **Step 1: Data collection and cleaning**"
   ]
  },
  {
   "attachments": {},
   "cell_type": "markdown",
   "metadata": {},
   "source": [
    "### **1.1 Scraping the St. Cloud Times Newspaper**"
   ]
  },
  {
   "cell_type": "code",
   "execution_count": null,
   "metadata": {},
   "outputs": [],
   "source": [
    "import requests\n",
    "from selectolax.lexbor import LexborHTMLParser\n",
    "from concurrent.futures import ThreadPoolExecutor\n",
    "\n",
    "ThreadPoolExecutor()._max_workers\n"
   ]
  },
  {
   "cell_type": "code",
   "execution_count": null,
   "metadata": {},
   "outputs": [],
   "source": [
    "%%script echo skipping\n",
    "# don't run this cell, downlaods titles\n",
    "# last run 04/06/2023\n",
    "# ThreadPoolExecutor()._max_workers-4\n",
    "\n",
    "def get_data(url, selector):\n",
    "    page = requests.get(url)\n",
    "    return [node for node in LexborHTMLParser(page.text).css(selector)]\n",
    "\n",
    "\n",
    "def get_titles(url, selector):\n",
    "    return [node.text() for node in get_data(url, selector)]\n",
    "\n",
    "\n",
    "def main():\n",
    "    site_map = \"https://www.sctimes.com/sitemap/\"\n",
    "\n",
    "    months = get_data(site_map, \".sitemap-list-item a\")\n",
    "    days = [\n",
    "        day\n",
    "        for month in months\n",
    "        for day in get_data(\n",
    "            \"https://www.sctimes.com\" + month.attributes[\"href\"], \".sitemap-month a\"\n",
    "        )\n",
    "    ]\n",
    "\n",
    "    title_selector = \".sitemap-list:not(.sitemap-breadcrumb):not(.sitemap-pagination) .sitemap-list-item\"\n",
    "    with ThreadPoolExecutor(max_workers=16) as executor:\n",
    "        titles = executor.map(\n",
    "            lambda day: get_titles(\n",
    "                \"https://www.sctimes.com\" + day.attributes[\"href\"], title_selector\n",
    "            ),\n",
    "            days,\n",
    "        )\n",
    "\n",
    "    return [title for title_list in titles for title in title_list]\n",
    "\n",
    "\n",
    "titles = main()\n",
    "# pd.to_pickle(titles, \"titles.pkl\")"
   ]
  },
  {
   "attachments": {},
   "cell_type": "markdown",
   "metadata": {},
   "source": [
    "### **1.2 [Zero-shot classification](https://huggingface.co/facebook/bart-large-mnli)**"
   ]
  },
  {
   "cell_type": "code",
   "execution_count": null,
   "metadata": {},
   "outputs": [],
   "source": [
    "from torch.cuda import is_available\n",
    "from transformers import pipeline, AutoTokenizer, AutoModelForSequenceClassification\n"
   ]
  },
  {
   "cell_type": "code",
   "execution_count": 18,
   "metadata": {},
   "outputs": [
    {
     "name": "stdout",
     "output_type": "stream",
     "text": [
      "skipping\n"
     ]
    }
   ],
   "source": [
    "%%script echo skipping\n",
    "# don't run this cell, takes a long time\n",
    "\n",
    "classifier = pipeline(\n",
    "    # \"zero-shot-classification\",\n",
    "    model=\"facebook/bart-large-mnli\",\n",
    "    multi_label=False,\n",
    "    device=0 if is_available() else 1,\n",
    "    batch_size=32,\n",
    ")\n",
    "\n",
    "labels = [\"controversial\", \"uncontroversial\", \"other\"]\n",
    "\n",
    "classification = classifier(titles, labels)\n",
    "\n",
    "classified_titles = []\n",
    "\n",
    "for title, classification in zip(titles, classification):\n",
    "    classified_titles.append(\n",
    "        {\n",
    "            \"text\": title,\n",
    "            \"controversy_label\": classification[\"labels\"][0],\n",
    "            \"controversy_score\": classification[\"scores\"][0],\n",
    "        }\n",
    "    )\n",
    "\n",
    "# # pd.to_pickle(classified_titles, \"classified_titles.pkl\")\n",
    "# df = pd.DataFrame(classified_titles)\n"
   ]
  },
  {
   "cell_type": "code",
   "execution_count": 3,
   "metadata": {},
   "outputs": [
    {
     "data": {
      "text/html": [
       "<div>\n",
       "<style scoped>\n",
       "    .dataframe tbody tr th:only-of-type {\n",
       "        vertical-align: middle;\n",
       "    }\n",
       "\n",
       "    .dataframe tbody tr th {\n",
       "        vertical-align: top;\n",
       "    }\n",
       "\n",
       "    .dataframe thead th {\n",
       "        text-align: right;\n",
       "    }\n",
       "</style>\n",
       "<table border=\"1\" class=\"dataframe\">\n",
       "  <thead>\n",
       "    <tr style=\"text-align: right;\">\n",
       "      <th></th>\n",
       "      <th>text</th>\n",
       "      <th>controversy_score</th>\n",
       "    </tr>\n",
       "    <tr>\n",
       "      <th>controversy_label</th>\n",
       "      <th></th>\n",
       "      <th></th>\n",
       "    </tr>\n",
       "  </thead>\n",
       "  <tbody>\n",
       "    <tr>\n",
       "      <th>controversial</th>\n",
       "      <td>22766</td>\n",
       "      <td>22766</td>\n",
       "    </tr>\n",
       "    <tr>\n",
       "      <th>other</th>\n",
       "      <td>58980</td>\n",
       "      <td>58980</td>\n",
       "    </tr>\n",
       "    <tr>\n",
       "      <th>uncontroversial</th>\n",
       "      <td>1748</td>\n",
       "      <td>1748</td>\n",
       "    </tr>\n",
       "  </tbody>\n",
       "</table>\n",
       "</div>"
      ],
      "text/plain": [
       "                    text  controversy_score\n",
       "controversy_label                          \n",
       "controversial      22766              22766\n",
       "other              58980              58980\n",
       "uncontroversial     1748               1748"
      ]
     },
     "execution_count": 3,
     "metadata": {},
     "output_type": "execute_result"
    }
   ],
   "source": [
    "df.groupby(\"controversy_label\").count()"
   ]
  },
  {
   "attachments": {},
   "cell_type": "markdown",
   "metadata": {},
   "source": [
    "### **1.4 Sampled controversial titles**"
   ]
  },
  {
   "attachments": {},
   "cell_type": "markdown",
   "metadata": {},
   "source": [
    "This is a result of the zero-shot classification. We then manually sampled 50 titles from the titles that were classified as controversial."
   ]
  },
  {
   "cell_type": "code",
   "execution_count": 4,
   "metadata": {},
   "outputs": [],
   "source": [
    "sampled_controversial_titles = {\n",
    "# Abortion\n",
    "    21148: \"Abortion takes away the right to life\",\n",
    "    37383: \"Trump stands correct; abortion is a crime\",\n",
    "    57736: \"Abortion is not health care\",\n",
    "    64999: \"Letter: Roe vs. Wade saves women's rights\",\n",
    "    71063: \"Letter: Abortion is at heart of America's decay\",\n",
    "    74595: \"Anti-abortion laws often rooted in racism\",\n",
    "\n",
    "# Immigration\n",
    "    2: \"Our community can't view newcomers, differences as a threat\",\n",
    "    46009: \"It's not acceptable to reject immigrants\",\n",
    "    57287: \"'Anchor babies' term highlights racist attitudes\",\n",
    "    19059: \"Picture is clear: More guns, more gun deaths\",\n",
    "    32161: \"Open carry lacks respect for others\",\n",
    "\n",
    "# Drugs\n",
    "    30: \"MMA votes to support decriminalization of illicit drugs\",\n",
    "    37642: \"State should raise tobacco age to 21\",\n",
    "    70896: \"Lawmakers pass measure allowing medical marijuana\",\n",
    "\n",
    "# Race\n",
    "    30080: \"There's no denying white privilege\",\n",
    "    54170: \"Americans don't want racism to end\",\n",
    "\n",
    "# Free Speech\n",
    "    60990: \"Stand up to Confederate flag assault\",\n",
    "    794: \"Book bans are an act of government overreach\",\n",
    "    6649: \"Should schools monitor students' online activities?\",\n",
    "    19044: \"Twitter should enforce sanctions on Trump's account\",\n",
    "    34745: \"Closed meetings on controversial topics build mistrust\",\n",
    "\n",
    "# Politics and Government\n",
    "    1445: \"The U.S. is no longer a functioning democracy: Letter\",\n",
    "    2979: \"Is Joe Biden too old to lead the country?\",\n",
    "    15631: \"Celebrating Somalia's independence is an insult to America\",\n",
    "    17271: \"In politics, women would be just as bad as men\",\n",
    "    45960: \"Electoral College needs to go\",\n",
    "    54893: \"Republicans put businesses before families\",\n",
    "    58746: \"Don't back candidates who won't combat global warming\",\n",
    "\n",
    "# Gender\n",
    "    16534: \"Toxic masculinity turns into an epidemic\",\n",
    "    29465: \"Trump's transgender ban brings him dishonor\",\n",
    "    41873: \"Sexist perceptions hurt women\",\n",
    "    45532: \"mom-sues-teenage-child-transgender-treatment\",\n",
    "    59341: \"High court's marriage ruling violates God's law\",\n",
    "\n",
    "# Religion\n",
    "    2061: \"America doesn't need Jesus. It needs separation of church and state\",\n",
    "    9994: \"Catholic Church continues to harbor sexual predators\",\n",
    "    14784: \"It's our responsibility to fight Islamophobia in St. Cloud\",\n",
    "    37518: \"Women as priests? A divisive question of faith\",\n",
    "    39467: \"America must refocus on Christianity\",\n",
    "    41706: \"Terrorism is to Islam what KKK is to Christianity\",\n",
    "    55819: \"Constitution clearly framed by Christian influences\",\n",
    "\n",
    "# BLM\n",
    "    28: \"There is room for the Black National Anthem at NFL games\",\n",
    "    3607: \"All lives won't matter until Black lives matter\",\n",
    "    9217: \"Minnesota protesters pull down Columbus statue at Capitol\",\n",
    "    40911: \"Police walk off WNBA game over BLM jerseys\",\n",
    "\n",
    "# Social Issues\n",
    "    5214: \"Column: Euthanasia is a difficult, necessary decision for pet owners\",\n",
    "    6801: \"Radical individualism harms us all, even those who practice it\",\n",
    "    17835: \"Silence is assent to evil\",\n",
    "    23422: \"Indulgence of social issues has led to extremism\",\n",
    "    45966: \"Stop insulting Trump supporters\",\n",
    "    57436: \"Heavy topic: Airline to begin weighing passengers\",\n",
    "}\n"
   ]
  },
  {
   "attachments": {},
   "cell_type": "markdown",
   "metadata": {},
   "source": [
    "# **Step 2: Annotation**"
   ]
  },
  {
   "cell_type": "code",
   "execution_count": 10,
   "metadata": {},
   "outputs": [],
   "source": [
    "Human_responsesT = pd.read_excel(\"data/survey_responses.xlsx\", sheet_name=\"Human Responses\").T\n",
    "ChatGPT_responsesT = pd.read_excel(\"data/survey_responses.xlsx\", sheet_name=\"ChatGPT Responses\").T\n"
   ]
  },
  {
   "cell_type": "code",
   "execution_count": 11,
   "metadata": {},
   "outputs": [],
   "source": [
    "def disagreement_labels(df):\n",
    "    # drop written responses\n",
    "    # 0-5 are the demographic questions\n",
    "    df = df.drop(df.index[[0,1,2,3,4,6,14,18,21,28,30,34,49,53,56]])\n",
    "    df[\"binary\"] = df.iloc[:, 1:].nunique(axis=1).eq(1).astype(int)\n",
    "    # 1 - r_{maj}(x)\n",
    "    df['continuous'] = df.iloc[:, 1:11].apply(lambda row: 1 - row.value_counts().max() / len(row), axis=1)\n",
    "    df['aggregated_label'] = df.iloc[:, 1:11].apply(lambda row: row.mode()[0], axis=1)\n",
    "    return df\n"
   ]
  },
  {
   "cell_type": "code",
   "execution_count": 12,
   "metadata": {},
   "outputs": [],
   "source": [
    "Human_responsesT2 = disagreement_labels(Human_responsesT)\n",
    "ChatGPT_responsesT2 = disagreement_labels(ChatGPT_responsesT)\n"
   ]
  },
  {
   "cell_type": "code",
   "execution_count": 13,
   "metadata": {},
   "outputs": [],
   "source": [
    "Human_responsesT2.iloc[:, 1:11]\n",
    "ChatGPT_responsesT2.iloc[:, 1:11]\n",
    "df_concat = pd.concat([Human_responsesT2.iloc[:, 1:11], ChatGPT_responsesT2.iloc[:, 1:11]], axis=1)\n"
   ]
  },
  {
   "cell_type": "code",
   "execution_count": 20,
   "metadata": {},
   "outputs": [],
   "source": [
    "group_disagreement = pd.DataFrame(\n",
    "    {\n",
    "        \"Topic\": Human_responsesT2[0],\n",
    "        \"Human\": Human_responsesT2[\"continuous\"],\n",
    "        \"ChatGPT\": ChatGPT_responsesT2[\"continuous\"],\n",
    "    }\n",
    ")\n"
   ]
  },
  {
   "cell_type": "code",
   "execution_count": 22,
   "metadata": {},
   "outputs": [
    {
     "data": {
      "text/html": [
       "<div>\n",
       "<style scoped>\n",
       "    .dataframe tbody tr th:only-of-type {\n",
       "        vertical-align: middle;\n",
       "    }\n",
       "\n",
       "    .dataframe tbody tr th {\n",
       "        vertical-align: top;\n",
       "    }\n",
       "\n",
       "    .dataframe thead th {\n",
       "        text-align: right;\n",
       "    }\n",
       "</style>\n",
       "<table border=\"1\" class=\"dataframe\">\n",
       "  <thead>\n",
       "    <tr style=\"text-align: right;\">\n",
       "      <th></th>\n",
       "      <th>variable</th>\n",
       "      <th>value</th>\n",
       "    </tr>\n",
       "  </thead>\n",
       "  <tbody>\n",
       "    <tr>\n",
       "      <th>0</th>\n",
       "      <td>Human</td>\n",
       "      <td>0.3</td>\n",
       "    </tr>\n",
       "    <tr>\n",
       "      <th>1</th>\n",
       "      <td>Human</td>\n",
       "      <td>0.2</td>\n",
       "    </tr>\n",
       "    <tr>\n",
       "      <th>2</th>\n",
       "      <td>Human</td>\n",
       "      <td>0.1</td>\n",
       "    </tr>\n",
       "    <tr>\n",
       "      <th>3</th>\n",
       "      <td>Human</td>\n",
       "      <td>0.3</td>\n",
       "    </tr>\n",
       "    <tr>\n",
       "      <th>4</th>\n",
       "      <td>Human</td>\n",
       "      <td>0.4</td>\n",
       "    </tr>\n",
       "    <tr>\n",
       "      <th>...</th>\n",
       "      <td>...</td>\n",
       "      <td>...</td>\n",
       "    </tr>\n",
       "    <tr>\n",
       "      <th>95</th>\n",
       "      <td>ChatGPT</td>\n",
       "      <td>0.1</td>\n",
       "    </tr>\n",
       "    <tr>\n",
       "      <th>96</th>\n",
       "      <td>ChatGPT</td>\n",
       "      <td>0.1</td>\n",
       "    </tr>\n",
       "    <tr>\n",
       "      <th>97</th>\n",
       "      <td>ChatGPT</td>\n",
       "      <td>0.6</td>\n",
       "    </tr>\n",
       "    <tr>\n",
       "      <th>98</th>\n",
       "      <td>ChatGPT</td>\n",
       "      <td>0.2</td>\n",
       "    </tr>\n",
       "    <tr>\n",
       "      <th>99</th>\n",
       "      <td>ChatGPT</td>\n",
       "      <td>0.3</td>\n",
       "    </tr>\n",
       "  </tbody>\n",
       "</table>\n",
       "<p>100 rows × 2 columns</p>\n",
       "</div>"
      ],
      "text/plain": [
       "   variable  value\n",
       "0     Human    0.3\n",
       "1     Human    0.2\n",
       "2     Human    0.1\n",
       "3     Human    0.3\n",
       "4     Human    0.4\n",
       "..      ...    ...\n",
       "95  ChatGPT    0.1\n",
       "96  ChatGPT    0.1\n",
       "97  ChatGPT    0.6\n",
       "98  ChatGPT    0.2\n",
       "99  ChatGPT    0.3\n",
       "\n",
       "[100 rows x 2 columns]"
      ]
     },
     "execution_count": 22,
     "metadata": {},
     "output_type": "execute_result"
    }
   ],
   "source": [
    "pd.melt(group_disagreement.iloc[:,1:])"
   ]
  },
  {
   "cell_type": "code",
   "execution_count": 23,
   "metadata": {},
   "outputs": [],
   "source": [
    "import plotnine as p9"
   ]
  },
  {
   "cell_type": "code",
   "execution_count": 36,
   "metadata": {},
   "outputs": [
    {
     "data": {
      "image/png": "[encoded data removed]",
      "text/plain": [
       "<Figure size 640x480 with 1 Axes>"
      ]
     },
     "metadata": {},
     "output_type": "display_data"
    },
    {
     "data": {
      "text/plain": [
       "<ggplot: (155007801001)>"
      ]
     },
     "execution_count": 36,
     "metadata": {},
     "output_type": "execute_result"
    }
   ],
   "source": [
    "(\n",
    "    p9.ggplot(group_disagreement, p9.aes(x='Human', y='ChatGPT', color='Topic'))\n",
    "    + p9.geom_point(position=p9.position_jitter(width=0.05, height=0.05),size=2.5)\n",
    "    + p9.geom_smooth(method='lm', se=False)\n",
    "    + p9.geom_abline(intercept=0, slope=1, color=\"black\", linetype=\"dashed\", size=0.5)\n",
    "    + p9.labs(x=\"\\n Human Disagreement\", y=\"ChatGPT Disagreement \\n\")\n",
    "    + p9.theme_classic()\n",
    ")\n"
   ]
  },
  {
   "cell_type": "code",
   "execution_count": 31,
   "metadata": {},
   "outputs": [
    {
     "data": {
      "image/png": "[encoded data removed]",
      "text/plain": [
       "<Figure size 640x480 with 1 Axes>"
      ]
     },
     "metadata": {},
     "output_type": "display_data"
    },
    {
     "data": {
      "text/plain": [
       "<ggplot: (155007757713)>"
      ]
     },
     "execution_count": 31,
     "metadata": {},
     "output_type": "execute_result"
    }
   ],
   "source": [
    "(\n",
    "    p9.ggplot(pd.melt(group_disagreement.iloc[:,1:]), p9.aes(x=\"value\", fill=\"variable\"))\n",
    "    + p9.geom_histogram(alpha=0.7, position=\"identity\", binwidth=0.1)\n",
    "    + p9.theme_classic()\n",
    "    + p9.scale_fill_manual(values=[\"#588eca\", \"#c7c8ca\"])\n",
    "    + p9.labs(\n",
    "        title=\"Disagreement Distribution\", x=\"\\n Disagreement Label\", y=\"Density \\n\"\n",
    "    )\n",
    ")\n"
   ]
  },
  {
   "cell_type": "code",
   "execution_count": 32,
   "metadata": {},
   "outputs": [
    {
     "data": {
      "image/png": "[encoded data removed]",
      "text/plain": [
       "<Figure size 640x480 with 1 Axes>"
      ]
     },
     "metadata": {},
     "output_type": "display_data"
    },
    {
     "data": {
      "text/plain": [
       "<ggplot: (155007776341)>"
      ]
     },
     "execution_count": 32,
     "metadata": {},
     "output_type": "execute_result"
    }
   ],
   "source": [
    "(\n",
    "    p9.ggplot(group_disagreement, p9.aes(x='Human', y=p9.after_stat('count'),fill='Topic'))\n",
    "    + p9.geom_histogram(binwidth=0.1)\n",
    ")"
   ]
  },
  {
   "cell_type": "code",
   "execution_count": 33,
   "metadata": {},
   "outputs": [
    {
     "data": {
      "image/png": "[encoded data removed]",
      "text/plain": [
       "<Figure size 640x480 with 1 Axes>"
      ]
     },
     "metadata": {},
     "output_type": "display_data"
    },
    {
     "data": {
      "text/plain": [
       "<ggplot: (155007797935)>"
      ]
     },
     "execution_count": 33,
     "metadata": {},
     "output_type": "execute_result"
    }
   ],
   "source": [
    "(\n",
    "    p9.ggplot(group_disagreement, p9.aes(x=\"ChatGPT\", y=p9.after_stat('count'),fill='Topic'))\n",
    "    + p9.geom_histogram(binwidth=0.1)\n",
    ")"
   ]
  },
  {
   "attachments": {},
   "cell_type": "markdown",
   "metadata": {},
   "source": [
    "# **Step 3: ChatGPT Annotation**"
   ]
  },
  {
   "attachments": {},
   "cell_type": "markdown",
   "metadata": {},
   "source": [
    "## **3.1 Prompt**"
   ]
  },
  {
   "attachments": {},
   "cell_type": "markdown",
   "metadata": {},
   "source": [
    "We are feeding the model two prompts:\n",
    "\n",
    "> ## System message\n",
    "> Immerse yourself in the role of the following person: \\\n",
    "> {`person`} \\\n",
    "> Assume the personality, political views, and moral beliefs of the person. You will be given instructions, from this point forward, you are to respond to prompts in this way:\n",
    "> \n",
    "> Person: [The way person would respond]\n",
    ">\n",
    "> ## User message\n",
    "> You will be presented with news article titles related to controversial topics. For each title, you are to select a label from {`labels`} based on your perspective. For only 10 of the titles, signified by (provide a justification), you are to also provide a justification for your choice.\n",
    ">\n",
    "> {`articles`}\n"
   ]
  },
  {
   "attachments": {},
   "cell_type": "markdown",
   "metadata": {},
   "source": [
    "## **3.2 Create artificial personas**"
   ]
  },
  {
   "cell_type": "code",
   "execution_count": 3,
   "metadata": {},
   "outputs": [],
   "source": [
    "# prompt templates\n",
    "from langchain.prompts import (\n",
    "    SystemMessagePromptTemplate,\n",
    "    HumanMessagePromptTemplate,\n",
    "    ChatPromptTemplate,\n",
    ")\n",
    "\n",
    "# chat model\n",
    "from langchain.chat_models import ChatOpenAI\n",
    "\n",
    "# create streamer\n",
    "from langchain.callbacks.base import CallbackManager\n",
    "from langchain.callbacks.streaming_stdout import StreamingStdOutCallbackHandler\n"
   ]
  },
  {
   "cell_type": "code",
   "execution_count": 4,
   "metadata": {},
   "outputs": [],
   "source": [
    "# model parameters\n",
    "chat_model = ChatOpenAI(\n",
    "    model_name=\"gpt-3.5-turbo\",\n",
    "    # temperature=0,\n",
    "    verbose=True,\n",
    "    streaming=True,\n",
    "    callback_manager=CallbackManager([StreamingStdOutCallbackHandler()]),\n",
    ")\n"
   ]
  },
  {
   "cell_type": "code",
   "execution_count": 5,
   "metadata": {},
   "outputs": [],
   "source": [
    "# prompts\n",
    "prompt = ChatPromptTemplate(\n",
    "    messages=[\n",
    "        SystemMessagePromptTemplate.from_template(\n",
    "            \"Immerse yourself in the role of the following person:\\n{demographic}\\nAssume the personality, political views, and moral beliefs of the person.\"\n",
    "        ),\n",
    "        HumanMessagePromptTemplate.from_template(\n",
    "            \"You will be presented with news article titles related to controversial topics. For all titles, you are to select a label from {labels} based on your perspective. You must select a label for all titles, but provide an explanation only for for the following titles: 1, 8, 11, 13, 19, 20, 23, 37, 40, and 42.\\n\\n{articles}\"\n",
    "        ),\n",
    "    ],\n",
    "    input_variables=[\"demographic\", \"labels\", \"articles\"],\n",
    ")\n"
   ]
  },
  {
   "cell_type": "code",
   "execution_count": 27,
   "metadata": {},
   "outputs": [],
   "source": [
    "cont_titles = list(sampled_controversial_titles.values())"
   ]
  },
  {
   "cell_type": "code",
   "execution_count": 28,
   "metadata": {},
   "outputs": [],
   "source": [
    "for i, title in enumerate(cont_titles):\n",
    "    cont_titles[i] = f\"{i+1}. {title}\""
   ]
  },
  {
   "cell_type": "code",
   "execution_count": 29,
   "metadata": {},
   "outputs": [
    {
     "data": {
      "text/plain": [
       "\"1. Abortion takes away the right to life\\n2. Trump stands correct; abortion is a crime\\n3. Abortion is not health care\\n4. Letter: Roe vs. Wade saves women's rights\\n5. Letter: Abortion is at heart of America's decay\\n6. Anti-abortion laws often rooted in racism\\n7. Our community can't view newcomers, differences as a threat\\n8. It's not acceptable to reject immigrants\\n9. 'Anchor babies' term highlights racist attitudes\\n10. Picture is clear: More guns, more gun deaths\\n11. Open carry lacks respect for others\\n12. MMA votes to support decriminalization of illicit drugs\\n13. State should raise tobacco age to 21\\n14. Lawmakers pass measure allowing medical marijuana\\n15. There's no denying white privilege\\n16. Americans don't want racism to end\\n17. Stand up to Confederate flag assault\\n18. Book bans are an act of government overreach\\n19. Should schools monitor students' online activities?\\n20. Twitter should enforce sanctions on Trump's account\\n21. Closed meetings on controversial topics build mistrust\\n22. The U.S. is no longer a functioning democracy: Letter\\n23. Is Joe Biden too old to lead the country?\\n24. Celebrating Somalia's independence is an insult to America\\n25. In politics, women would be just as bad as men\\n26. Electoral College needs to go\\n27. Republicans put businesses before families\\n28. Don't back candidates who won't combat global warming\\n29. Toxic masculinity turns into an epidemic\\n30. Trump's transgender ban brings him dishonor\\n31. Sexist perceptions hurt women\\n32. mom-sues-teenage-child-transgender-treatment\\n33. High court's marriage ruling violates God's law\\n34. America doesn't need Jesus. It needs separation of church and state\\n35. Catholic Church continues to harbor sexual predators\\n36. It's our responsibility to fight Islamophobia in St. Cloud\\n37. Women as priests? A divisive question of faith\\n38. America must refocus on Christianity\\n39. Terrorism is to Islam what KKK is to Christianity\\n40. Constitution clearly framed by Christian influences\\n41. There is room for the Black National Anthem at NFL games\\n42. All lives won't matter until Black lives matter\\n43. Minnesota protesters pull down Columbus statue at Capitol\\n44. Police walk off WNBA game over BLM jerseys\\n45. Column: Euthanasia is a difficult, necessary decision for pet owners\\n46. Radical individualism harms us all, even those who practice it\\n47. Silence is assent to evil\\n48. Indulgence of social issues has led to extremism\\n49. Stop insulting Trump supporters\\n50. Heavy topic: Airline to begin weighing passengers\""
      ]
     },
     "execution_count": 29,
     "metadata": {},
     "output_type": "execute_result"
    }
   ],
   "source": [
    "titles_strings = \"\\n\".join(cont_titles)\n",
    "titles_strings"
   ]
  },
  {
   "attachments": {},
   "cell_type": "markdown",
   "metadata": {},
   "source": [
    "19. No opinion (I would need more information about the context and purpose of monitoring)\n",
    "\n",
    "Atheist persona:\n",
    "37. I have no opinion on whether women should be priests because it's a matter of religious beliefs and traditions.\n"
   ]
  },
  {
   "cell_type": "code",
   "execution_count": 9,
   "metadata": {},
   "outputs": [
    {
     "name": "stdout",
     "output_type": "stream",
     "text": [
      "1. Disagree\n",
      "2. Disagree\n",
      "3. No opinion\n",
      "4. Agree\n",
      "5. Disagree\n",
      "6. Agree\n",
      "7. No opinion\n",
      "8. Agree\n",
      "9. Agree\n",
      "10. Agree\n",
      "11. Agree\n",
      "12. Agree\n",
      "13. Agree\n",
      "14. Agree\n",
      "15. Agree\n",
      "16. Disagree\n",
      "17. Agree\n",
      "18. Agree\n",
      "19. No opinion\n",
      "20. Disagree\n",
      "21. Agree\n",
      "22. No opinion\n",
      "23. No opinion\n",
      "24. Disagree\n",
      "25. Disagree\n",
      "26. Agree\n",
      "27. No opinion\n",
      "28. Agree\n",
      "29. Agree\n",
      "30. Agree\n",
      "31. Agree\n",
      "32. No opinion\n",
      "33. Disagree\n",
      "34. Agree\n",
      "35. Agree\n",
      "36. Agree\n",
      "37. No opinion\n",
      "38. Disagree\n",
      "39. Disagree\n",
      "40. Disagree\n",
      "41. Agree\n",
      "42. Agree\n",
      "43. Disagree\n",
      "44. Disagree\n",
      "45. No opinion\n",
      "46. Agree\n",
      "47. Agree\n",
      "48. Agree\n",
      "49. Disagree\n",
      "50. No opinion\n",
      "\n",
      "Explanations:\n",
      "1. I disagree because I believe that women have the right to choose what they want to do with their bodies.\n",
      "8. I agree that it's not acceptable to reject immigrants because people should be able to live where they want to.\n",
      "11. I agree that open carry lacks respect for others because carrying weapons in public can make others feel unsafe and uncomfortable.\n",
      "13. I agree that the state should raise tobacco age to 21 because it can help reduce the number of young people who start smoking.\n",
      "19. I have no opinion on whether schools should monitor students' online activities because it can be argued that it's necessary to ensure student safety, but it can also be seen as an invasion of privacy.\n",
      "20. I disagree that Twitter should enforce sanctions on Trump's account because it can be seen as censorship and limiting freedom of speech.\n",
      "23. I have no opinion on whether Joe Biden is too old to lead the country because age does not necessarily determine one's capability to lead.\n",
      "37. I have no opinion on whether women should be priests because it's a matter of religious beliefs and traditions.\n",
      "40. I disagree that the Constitution was clearly framed by Christian influences because the Founding Fathers were influenced by various philosophical and religious beliefs, not just Christianity.\n",
      "42. I agree that all lives won't matter until Black lives matter because systemic racism and inequality need to be addressed in order to achieve equality for all."
     ]
    }
   ],
   "source": [
    "demographic = \"\"\"Age Group: 30-29\n",
    "Sex: Male\n",
    "Political Ideology: Moderate\n",
    "Race: Asian\n",
    "Religious Beliefs: Atheist\"\"\"\n",
    "\n",
    "\n",
    "# inject the titles and demographic into the prompt template\n",
    "# and generate the output\n",
    "output = chat_model(\n",
    "    prompt.format_prompt(\n",
    "        demographic=demographic,\n",
    "        labels=\"Agree, Disagree, No opinion\",\n",
    "        articles=titles_strings,\n",
    "    ).to_messages()\n",
    ")\n"
   ]
  },
  {
   "cell_type": "code",
   "execution_count": 10,
   "metadata": {},
   "outputs": [
    {
     "data": {
      "text/plain": [
       "['1. Disagree',\n",
       " '2. Disagree',\n",
       " '3. No opinion',\n",
       " '4. Agree',\n",
       " '5. Disagree',\n",
       " '6. Agree',\n",
       " '7. No opinion',\n",
       " '8. Agree',\n",
       " '9. Agree',\n",
       " '10. Agree',\n",
       " '11. Agree',\n",
       " '12. Agree',\n",
       " '13. Agree',\n",
       " '14. Agree',\n",
       " '15. Agree',\n",
       " '16. Disagree',\n",
       " '17. Agree',\n",
       " '18. Agree',\n",
       " '19. No opinion',\n",
       " '20. Disagree',\n",
       " '21. Agree',\n",
       " '22. No opinion',\n",
       " '23. No opinion',\n",
       " '24. Disagree',\n",
       " '25. Disagree',\n",
       " '26. Agree',\n",
       " '27. No opinion',\n",
       " '28. Agree',\n",
       " '29. Agree',\n",
       " '30. Agree',\n",
       " '31. Agree',\n",
       " '32. No opinion',\n",
       " '33. Disagree',\n",
       " '34. Agree',\n",
       " '35. Agree',\n",
       " '36. Agree',\n",
       " '37. No opinion',\n",
       " '38. Disagree',\n",
       " '39. Disagree',\n",
       " '40. Disagree',\n",
       " '41. Agree',\n",
       " '42. Agree',\n",
       " '43. Disagree',\n",
       " '44. Disagree',\n",
       " '45. No opinion',\n",
       " '46. Agree',\n",
       " '47. Agree',\n",
       " '48. Agree',\n",
       " '49. Disagree',\n",
       " '50. No opinion',\n",
       " '',\n",
       " 'Explanations:',\n",
       " '1. I disagree because I believe that women have the right to choose what they want to do with their bodies.',\n",
       " \"8. I agree that it's not acceptable to reject immigrants because people should be able to live where they want to.\",\n",
       " '11. I agree that open carry lacks respect for others because carrying weapons in public can make others feel unsafe and uncomfortable.',\n",
       " '13. I agree that the state should raise tobacco age to 21 because it can help reduce the number of young people who start smoking.',\n",
       " \"19. I have no opinion on whether schools should monitor students' online activities because it can be argued that it's necessary to ensure student safety, but it can also be seen as an invasion of privacy.\",\n",
       " \"20. I disagree that Twitter should enforce sanctions on Trump's account because it can be seen as censorship and limiting freedom of speech.\",\n",
       " \"23. I have no opinion on whether Joe Biden is too old to lead the country because age does not necessarily determine one's capability to lead.\",\n",
       " \"37. I have no opinion on whether women should be priests because it's a matter of religious beliefs and traditions.\",\n",
       " '40. I disagree that the Constitution was clearly framed by Christian influences because the Founding Fathers were influenced by various philosophical and religious beliefs, not just Christianity.',\n",
       " \"42. I agree that all lives won't matter until Black lives matter because systemic racism and inequality need to be addressed in order to achieve equality for all.\"]"
      ]
     },
     "execution_count": 10,
     "metadata": {},
     "output_type": "execute_result"
    }
   ],
   "source": [
    "# split the output into individual messages\n",
    "output.content.split(\"\\n\")\n"
   ]
  }
 ],
 "metadata": {
  "kernelspec": {
   "display_name": "Python 3",
   "language": "python",
   "name": "python3"
  },
  "language_info": {
   "codemirror_mode": {
    "name": "ipython",
    "version": 3
   },
   "file_extension": ".py",
   "mimetype": "text/x-python",
   "name": "python",
   "nbconvert_exporter": "python",
   "pygments_lexer": "ipython3",
   "version": "3.9.0"
  },
  "orig_nbformat": 4,
  "vscode": {
   "interpreter": {
    "hash": "15d1cb1b3b106fb34be6f86ad66650bdab040aea87a0ff4dcf5f28ec0cf6db14"
   }
  }
 },
 "nbformat": 4,
 "nbformat_minor": 2
}
